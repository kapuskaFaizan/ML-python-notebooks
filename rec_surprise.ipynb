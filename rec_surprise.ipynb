{
  "nbformat": 4,
  "nbformat_minor": 0,
  "metadata": {
    "kernelspec": {
      "display_name": "Python 3",
      "language": "python",
      "name": "python3"
    },
    "language_info": {
      "codemirror_mode": {
        "name": "ipython",
        "version": 3
      },
      "file_extension": ".py",
      "mimetype": "text/x-python",
      "name": "python",
      "nbconvert_exporter": "python",
      "pygments_lexer": "ipython3",
      "version": "3.7.6"
    },
    "colab": {
      "name": "rec_surprise.ipynb",
      "provenance": [],
      "include_colab_link": true
    }
  },
  "cells": [
    {
      "cell_type": "markdown",
      "metadata": {
        "id": "view-in-github",
        "colab_type": "text"
      },
      "source": [
        "<a href=\"https://colab.research.google.com/github/kapuskaFaizan/ML-python-notebooks/blob/master/rec_surprise.ipynb\" target=\"_parent\"><img src=\"https://colab.research.google.com/assets/colab-badge.svg\" alt=\"Open In Colab\"/></a>"
      ]
    },
    {
      "cell_type": "code",
      "metadata": {
        "id": "GddIKfhb12BZ",
        "colab_type": "code",
        "colab": {}
      },
      "source": [
        "import pandas as pd\n",
        "import numpy as np"
      ],
      "execution_count": null,
      "outputs": []
    },
    {
      "cell_type": "code",
      "metadata": {
        "id": "obETYKiR12Be",
        "colab_type": "code",
        "colab": {},
        "outputId": "9c1ef17d-0387-4682-9b1f-0a67a3b9ef37"
      },
      "source": [
        "# Importing the data\n",
        "\n",
        "movie_titles_genre = pd.read_csv('movies.csv')\n",
        "movie_titles_genre.head()"
      ],
      "execution_count": null,
      "outputs": [
        {
          "output_type": "execute_result",
          "data": {
            "text/html": [
              "<div>\n",
              "<style scoped>\n",
              "    .dataframe tbody tr th:only-of-type {\n",
              "        vertical-align: middle;\n",
              "    }\n",
              "\n",
              "    .dataframe tbody tr th {\n",
              "        vertical-align: top;\n",
              "    }\n",
              "\n",
              "    .dataframe thead th {\n",
              "        text-align: right;\n",
              "    }\n",
              "</style>\n",
              "<table border=\"1\" class=\"dataframe\">\n",
              "  <thead>\n",
              "    <tr style=\"text-align: right;\">\n",
              "      <th></th>\n",
              "      <th>movieId</th>\n",
              "      <th>title</th>\n",
              "      <th>genres</th>\n",
              "    </tr>\n",
              "  </thead>\n",
              "  <tbody>\n",
              "    <tr>\n",
              "      <th>0</th>\n",
              "      <td>1</td>\n",
              "      <td>Toy Story (1995)</td>\n",
              "      <td>Adventure|Animation|Children|Comedy|Fantasy</td>\n",
              "    </tr>\n",
              "    <tr>\n",
              "      <th>1</th>\n",
              "      <td>2</td>\n",
              "      <td>Jumanji (1995)</td>\n",
              "      <td>Adventure|Children|Fantasy</td>\n",
              "    </tr>\n",
              "    <tr>\n",
              "      <th>2</th>\n",
              "      <td>3</td>\n",
              "      <td>Grumpier Old Men (1995)</td>\n",
              "      <td>Comedy|Romance</td>\n",
              "    </tr>\n",
              "    <tr>\n",
              "      <th>3</th>\n",
              "      <td>4</td>\n",
              "      <td>Waiting to Exhale (1995)</td>\n",
              "      <td>Comedy|Drama|Romance</td>\n",
              "    </tr>\n",
              "    <tr>\n",
              "      <th>4</th>\n",
              "      <td>5</td>\n",
              "      <td>Father of the Bride Part II (1995)</td>\n",
              "      <td>Comedy</td>\n",
              "    </tr>\n",
              "  </tbody>\n",
              "</table>\n",
              "</div>"
            ],
            "text/plain": [
              "   movieId                               title  \\\n",
              "0        1                    Toy Story (1995)   \n",
              "1        2                      Jumanji (1995)   \n",
              "2        3             Grumpier Old Men (1995)   \n",
              "3        4            Waiting to Exhale (1995)   \n",
              "4        5  Father of the Bride Part II (1995)   \n",
              "\n",
              "                                        genres  \n",
              "0  Adventure|Animation|Children|Comedy|Fantasy  \n",
              "1                   Adventure|Children|Fantasy  \n",
              "2                               Comedy|Romance  \n",
              "3                         Comedy|Drama|Romance  \n",
              "4                                       Comedy  "
            ]
          },
          "metadata": {
            "tags": []
          },
          "execution_count": 2
        }
      ]
    },
    {
      "cell_type": "code",
      "metadata": {
        "id": "03x2bFTx12Bj",
        "colab_type": "code",
        "colab": {},
        "outputId": "ff40c937-628a-4499-a422-af3bdc722377"
      },
      "source": [
        "data = pd.read_csv('ratings.csv')\n",
        "data.head()"
      ],
      "execution_count": null,
      "outputs": [
        {
          "output_type": "execute_result",
          "data": {
            "text/html": [
              "<div>\n",
              "<style scoped>\n",
              "    .dataframe tbody tr th:only-of-type {\n",
              "        vertical-align: middle;\n",
              "    }\n",
              "\n",
              "    .dataframe tbody tr th {\n",
              "        vertical-align: top;\n",
              "    }\n",
              "\n",
              "    .dataframe thead th {\n",
              "        text-align: right;\n",
              "    }\n",
              "</style>\n",
              "<table border=\"1\" class=\"dataframe\">\n",
              "  <thead>\n",
              "    <tr style=\"text-align: right;\">\n",
              "      <th></th>\n",
              "      <th>userId</th>\n",
              "      <th>movieId</th>\n",
              "      <th>rating</th>\n",
              "      <th>timestamp</th>\n",
              "    </tr>\n",
              "  </thead>\n",
              "  <tbody>\n",
              "    <tr>\n",
              "      <th>0</th>\n",
              "      <td>1</td>\n",
              "      <td>1</td>\n",
              "      <td>4.0</td>\n",
              "      <td>964982703</td>\n",
              "    </tr>\n",
              "    <tr>\n",
              "      <th>1</th>\n",
              "      <td>1</td>\n",
              "      <td>3</td>\n",
              "      <td>4.0</td>\n",
              "      <td>964981247</td>\n",
              "    </tr>\n",
              "    <tr>\n",
              "      <th>2</th>\n",
              "      <td>1</td>\n",
              "      <td>6</td>\n",
              "      <td>4.0</td>\n",
              "      <td>964982224</td>\n",
              "    </tr>\n",
              "    <tr>\n",
              "      <th>3</th>\n",
              "      <td>1</td>\n",
              "      <td>47</td>\n",
              "      <td>5.0</td>\n",
              "      <td>964983815</td>\n",
              "    </tr>\n",
              "    <tr>\n",
              "      <th>4</th>\n",
              "      <td>1</td>\n",
              "      <td>50</td>\n",
              "      <td>5.0</td>\n",
              "      <td>964982931</td>\n",
              "    </tr>\n",
              "  </tbody>\n",
              "</table>\n",
              "</div>"
            ],
            "text/plain": [
              "   userId  movieId  rating  timestamp\n",
              "0       1        1     4.0  964982703\n",
              "1       1        3     4.0  964981247\n",
              "2       1        6     4.0  964982224\n",
              "3       1       47     5.0  964983815\n",
              "4       1       50     5.0  964982931"
            ]
          },
          "metadata": {
            "tags": []
          },
          "execution_count": 3
        }
      ]
    },
    {
      "cell_type": "code",
      "metadata": {
        "id": "jB7lorfu12Bm",
        "colab_type": "code",
        "colab": {}
      },
      "source": [
        ""
      ],
      "execution_count": null,
      "outputs": []
    },
    {
      "cell_type": "code",
      "metadata": {
        "id": "L0drT7sw12Bq",
        "colab_type": "code",
        "colab": {},
        "outputId": "a44831ca-0317-4df8-cb25-1fee8a024792"
      },
      "source": [
        "d2 = pd.read_csv('links.csv')\n",
        "d2.head()"
      ],
      "execution_count": null,
      "outputs": [
        {
          "output_type": "execute_result",
          "data": {
            "text/html": [
              "<div>\n",
              "<style scoped>\n",
              "    .dataframe tbody tr th:only-of-type {\n",
              "        vertical-align: middle;\n",
              "    }\n",
              "\n",
              "    .dataframe tbody tr th {\n",
              "        vertical-align: top;\n",
              "    }\n",
              "\n",
              "    .dataframe thead th {\n",
              "        text-align: right;\n",
              "    }\n",
              "</style>\n",
              "<table border=\"1\" class=\"dataframe\">\n",
              "  <thead>\n",
              "    <tr style=\"text-align: right;\">\n",
              "      <th></th>\n",
              "      <th>movieId</th>\n",
              "      <th>imdbId</th>\n",
              "      <th>tmdbId</th>\n",
              "    </tr>\n",
              "  </thead>\n",
              "  <tbody>\n",
              "    <tr>\n",
              "      <th>0</th>\n",
              "      <td>1</td>\n",
              "      <td>114709</td>\n",
              "      <td>862.0</td>\n",
              "    </tr>\n",
              "    <tr>\n",
              "      <th>1</th>\n",
              "      <td>2</td>\n",
              "      <td>113497</td>\n",
              "      <td>8844.0</td>\n",
              "    </tr>\n",
              "    <tr>\n",
              "      <th>2</th>\n",
              "      <td>3</td>\n",
              "      <td>113228</td>\n",
              "      <td>15602.0</td>\n",
              "    </tr>\n",
              "    <tr>\n",
              "      <th>3</th>\n",
              "      <td>4</td>\n",
              "      <td>114885</td>\n",
              "      <td>31357.0</td>\n",
              "    </tr>\n",
              "    <tr>\n",
              "      <th>4</th>\n",
              "      <td>5</td>\n",
              "      <td>113041</td>\n",
              "      <td>11862.0</td>\n",
              "    </tr>\n",
              "  </tbody>\n",
              "</table>\n",
              "</div>"
            ],
            "text/plain": [
              "   movieId  imdbId   tmdbId\n",
              "0        1  114709    862.0\n",
              "1        2  113497   8844.0\n",
              "2        3  113228  15602.0\n",
              "3        4  114885  31357.0\n",
              "4        5  113041  11862.0"
            ]
          },
          "metadata": {
            "tags": []
          },
          "execution_count": 5
        }
      ]
    },
    {
      "cell_type": "code",
      "metadata": {
        "id": "GjGbeNVU12Bu",
        "colab_type": "code",
        "colab": {},
        "outputId": "03372a6b-d26e-47d8-b8f4-cef45e0fd04f"
      },
      "source": [
        "d3 = pd.read_csv('tags.csv')\n",
        "d3.head()"
      ],
      "execution_count": null,
      "outputs": [
        {
          "output_type": "execute_result",
          "data": {
            "text/html": [
              "<div>\n",
              "<style scoped>\n",
              "    .dataframe tbody tr th:only-of-type {\n",
              "        vertical-align: middle;\n",
              "    }\n",
              "\n",
              "    .dataframe tbody tr th {\n",
              "        vertical-align: top;\n",
              "    }\n",
              "\n",
              "    .dataframe thead th {\n",
              "        text-align: right;\n",
              "    }\n",
              "</style>\n",
              "<table border=\"1\" class=\"dataframe\">\n",
              "  <thead>\n",
              "    <tr style=\"text-align: right;\">\n",
              "      <th></th>\n",
              "      <th>userId</th>\n",
              "      <th>movieId</th>\n",
              "      <th>tag</th>\n",
              "      <th>timestamp</th>\n",
              "    </tr>\n",
              "  </thead>\n",
              "  <tbody>\n",
              "    <tr>\n",
              "      <th>0</th>\n",
              "      <td>2</td>\n",
              "      <td>60756</td>\n",
              "      <td>funny</td>\n",
              "      <td>1445714994</td>\n",
              "    </tr>\n",
              "    <tr>\n",
              "      <th>1</th>\n",
              "      <td>2</td>\n",
              "      <td>60756</td>\n",
              "      <td>Highly quotable</td>\n",
              "      <td>1445714996</td>\n",
              "    </tr>\n",
              "    <tr>\n",
              "      <th>2</th>\n",
              "      <td>2</td>\n",
              "      <td>60756</td>\n",
              "      <td>will ferrell</td>\n",
              "      <td>1445714992</td>\n",
              "    </tr>\n",
              "    <tr>\n",
              "      <th>3</th>\n",
              "      <td>2</td>\n",
              "      <td>89774</td>\n",
              "      <td>Boxing story</td>\n",
              "      <td>1445715207</td>\n",
              "    </tr>\n",
              "    <tr>\n",
              "      <th>4</th>\n",
              "      <td>2</td>\n",
              "      <td>89774</td>\n",
              "      <td>MMA</td>\n",
              "      <td>1445715200</td>\n",
              "    </tr>\n",
              "  </tbody>\n",
              "</table>\n",
              "</div>"
            ],
            "text/plain": [
              "   userId  movieId              tag   timestamp\n",
              "0       2    60756            funny  1445714994\n",
              "1       2    60756  Highly quotable  1445714996\n",
              "2       2    60756     will ferrell  1445714992\n",
              "3       2    89774     Boxing story  1445715207\n",
              "4       2    89774              MMA  1445715200"
            ]
          },
          "metadata": {
            "tags": []
          },
          "execution_count": 6
        }
      ]
    },
    {
      "cell_type": "code",
      "metadata": {
        "id": "g3fPam5B12Bx",
        "colab_type": "code",
        "colab": {}
      },
      "source": [
        "#data pre processing\n",
        "\n",
        "data = data.merge(movie_titles_genre,on='movieId', how='left')"
      ],
      "execution_count": null,
      "outputs": []
    },
    {
      "cell_type": "code",
      "metadata": {
        "id": "7ASs0LtF12B2",
        "colab_type": "code",
        "colab": {},
        "outputId": "bf3fbbff-14d3-4e60-8ea1-fe7336e762a3"
      },
      "source": [
        "data.head(10)"
      ],
      "execution_count": null,
      "outputs": [
        {
          "output_type": "execute_result",
          "data": {
            "text/html": [
              "<div>\n",
              "<style scoped>\n",
              "    .dataframe tbody tr th:only-of-type {\n",
              "        vertical-align: middle;\n",
              "    }\n",
              "\n",
              "    .dataframe tbody tr th {\n",
              "        vertical-align: top;\n",
              "    }\n",
              "\n",
              "    .dataframe thead th {\n",
              "        text-align: right;\n",
              "    }\n",
              "</style>\n",
              "<table border=\"1\" class=\"dataframe\">\n",
              "  <thead>\n",
              "    <tr style=\"text-align: right;\">\n",
              "      <th></th>\n",
              "      <th>userId</th>\n",
              "      <th>movieId</th>\n",
              "      <th>rating</th>\n",
              "      <th>timestamp</th>\n",
              "      <th>title</th>\n",
              "      <th>genres</th>\n",
              "    </tr>\n",
              "  </thead>\n",
              "  <tbody>\n",
              "    <tr>\n",
              "      <th>0</th>\n",
              "      <td>1</td>\n",
              "      <td>1</td>\n",
              "      <td>4.0</td>\n",
              "      <td>964982703</td>\n",
              "      <td>Toy Story (1995)</td>\n",
              "      <td>Adventure|Animation|Children|Comedy|Fantasy</td>\n",
              "    </tr>\n",
              "    <tr>\n",
              "      <th>1</th>\n",
              "      <td>1</td>\n",
              "      <td>3</td>\n",
              "      <td>4.0</td>\n",
              "      <td>964981247</td>\n",
              "      <td>Grumpier Old Men (1995)</td>\n",
              "      <td>Comedy|Romance</td>\n",
              "    </tr>\n",
              "    <tr>\n",
              "      <th>2</th>\n",
              "      <td>1</td>\n",
              "      <td>6</td>\n",
              "      <td>4.0</td>\n",
              "      <td>964982224</td>\n",
              "      <td>Heat (1995)</td>\n",
              "      <td>Action|Crime|Thriller</td>\n",
              "    </tr>\n",
              "    <tr>\n",
              "      <th>3</th>\n",
              "      <td>1</td>\n",
              "      <td>47</td>\n",
              "      <td>5.0</td>\n",
              "      <td>964983815</td>\n",
              "      <td>Seven (a.k.a. Se7en) (1995)</td>\n",
              "      <td>Mystery|Thriller</td>\n",
              "    </tr>\n",
              "    <tr>\n",
              "      <th>4</th>\n",
              "      <td>1</td>\n",
              "      <td>50</td>\n",
              "      <td>5.0</td>\n",
              "      <td>964982931</td>\n",
              "      <td>Usual Suspects, The (1995)</td>\n",
              "      <td>Crime|Mystery|Thriller</td>\n",
              "    </tr>\n",
              "    <tr>\n",
              "      <th>5</th>\n",
              "      <td>1</td>\n",
              "      <td>70</td>\n",
              "      <td>3.0</td>\n",
              "      <td>964982400</td>\n",
              "      <td>From Dusk Till Dawn (1996)</td>\n",
              "      <td>Action|Comedy|Horror|Thriller</td>\n",
              "    </tr>\n",
              "    <tr>\n",
              "      <th>6</th>\n",
              "      <td>1</td>\n",
              "      <td>101</td>\n",
              "      <td>5.0</td>\n",
              "      <td>964980868</td>\n",
              "      <td>Bottle Rocket (1996)</td>\n",
              "      <td>Adventure|Comedy|Crime|Romance</td>\n",
              "    </tr>\n",
              "    <tr>\n",
              "      <th>7</th>\n",
              "      <td>1</td>\n",
              "      <td>110</td>\n",
              "      <td>4.0</td>\n",
              "      <td>964982176</td>\n",
              "      <td>Braveheart (1995)</td>\n",
              "      <td>Action|Drama|War</td>\n",
              "    </tr>\n",
              "    <tr>\n",
              "      <th>8</th>\n",
              "      <td>1</td>\n",
              "      <td>151</td>\n",
              "      <td>5.0</td>\n",
              "      <td>964984041</td>\n",
              "      <td>Rob Roy (1995)</td>\n",
              "      <td>Action|Drama|Romance|War</td>\n",
              "    </tr>\n",
              "    <tr>\n",
              "      <th>9</th>\n",
              "      <td>1</td>\n",
              "      <td>157</td>\n",
              "      <td>5.0</td>\n",
              "      <td>964984100</td>\n",
              "      <td>Canadian Bacon (1995)</td>\n",
              "      <td>Comedy|War</td>\n",
              "    </tr>\n",
              "  </tbody>\n",
              "</table>\n",
              "</div>"
            ],
            "text/plain": [
              "   userId  movieId  rating  timestamp                        title  \\\n",
              "0       1        1     4.0  964982703             Toy Story (1995)   \n",
              "1       1        3     4.0  964981247      Grumpier Old Men (1995)   \n",
              "2       1        6     4.0  964982224                  Heat (1995)   \n",
              "3       1       47     5.0  964983815  Seven (a.k.a. Se7en) (1995)   \n",
              "4       1       50     5.0  964982931   Usual Suspects, The (1995)   \n",
              "5       1       70     3.0  964982400   From Dusk Till Dawn (1996)   \n",
              "6       1      101     5.0  964980868         Bottle Rocket (1996)   \n",
              "7       1      110     4.0  964982176            Braveheart (1995)   \n",
              "8       1      151     5.0  964984041               Rob Roy (1995)   \n",
              "9       1      157     5.0  964984100        Canadian Bacon (1995)   \n",
              "\n",
              "                                        genres  \n",
              "0  Adventure|Animation|Children|Comedy|Fantasy  \n",
              "1                               Comedy|Romance  \n",
              "2                        Action|Crime|Thriller  \n",
              "3                             Mystery|Thriller  \n",
              "4                       Crime|Mystery|Thriller  \n",
              "5                Action|Comedy|Horror|Thriller  \n",
              "6               Adventure|Comedy|Crime|Romance  \n",
              "7                             Action|Drama|War  \n",
              "8                     Action|Drama|Romance|War  \n",
              "9                                   Comedy|War  "
            ]
          },
          "metadata": {
            "tags": []
          },
          "execution_count": 8
        }
      ]
    },
    {
      "cell_type": "code",
      "metadata": {
        "id": "svNNBKlH12B6",
        "colab_type": "code",
        "colab": {},
        "outputId": "7da1c0ad-e3ce-44ba-a970-f21acf75f2b2"
      },
      "source": [
        "Average_ratings = pd.DataFrame(data.groupby('title')['rating'].mean())\n",
        "Average_ratings.head(10)"
      ],
      "execution_count": null,
      "outputs": [
        {
          "output_type": "execute_result",
          "data": {
            "text/html": [
              "<div>\n",
              "<style scoped>\n",
              "    .dataframe tbody tr th:only-of-type {\n",
              "        vertical-align: middle;\n",
              "    }\n",
              "\n",
              "    .dataframe tbody tr th {\n",
              "        vertical-align: top;\n",
              "    }\n",
              "\n",
              "    .dataframe thead th {\n",
              "        text-align: right;\n",
              "    }\n",
              "</style>\n",
              "<table border=\"1\" class=\"dataframe\">\n",
              "  <thead>\n",
              "    <tr style=\"text-align: right;\">\n",
              "      <th></th>\n",
              "      <th>rating</th>\n",
              "    </tr>\n",
              "    <tr>\n",
              "      <th>title</th>\n",
              "      <th></th>\n",
              "    </tr>\n",
              "  </thead>\n",
              "  <tbody>\n",
              "    <tr>\n",
              "      <th>'71 (2014)</th>\n",
              "      <td>4.000000</td>\n",
              "    </tr>\n",
              "    <tr>\n",
              "      <th>'Hellboy': The Seeds of Creation (2004)</th>\n",
              "      <td>4.000000</td>\n",
              "    </tr>\n",
              "    <tr>\n",
              "      <th>'Round Midnight (1986)</th>\n",
              "      <td>3.500000</td>\n",
              "    </tr>\n",
              "    <tr>\n",
              "      <th>'Salem's Lot (2004)</th>\n",
              "      <td>5.000000</td>\n",
              "    </tr>\n",
              "    <tr>\n",
              "      <th>'Til There Was You (1997)</th>\n",
              "      <td>4.000000</td>\n",
              "    </tr>\n",
              "    <tr>\n",
              "      <th>'Tis the Season for Love (2015)</th>\n",
              "      <td>1.500000</td>\n",
              "    </tr>\n",
              "    <tr>\n",
              "      <th>'burbs, The (1989)</th>\n",
              "      <td>3.176471</td>\n",
              "    </tr>\n",
              "    <tr>\n",
              "      <th>'night Mother (1986)</th>\n",
              "      <td>3.000000</td>\n",
              "    </tr>\n",
              "    <tr>\n",
              "      <th>(500) Days of Summer (2009)</th>\n",
              "      <td>3.666667</td>\n",
              "    </tr>\n",
              "    <tr>\n",
              "      <th>*batteries not included (1987)</th>\n",
              "      <td>3.285714</td>\n",
              "    </tr>\n",
              "  </tbody>\n",
              "</table>\n",
              "</div>"
            ],
            "text/plain": [
              "                                           rating\n",
              "title                                            \n",
              "'71 (2014)                               4.000000\n",
              "'Hellboy': The Seeds of Creation (2004)  4.000000\n",
              "'Round Midnight (1986)                   3.500000\n",
              "'Salem's Lot (2004)                      5.000000\n",
              "'Til There Was You (1997)                4.000000\n",
              "'Tis the Season for Love (2015)          1.500000\n",
              "'burbs, The (1989)                       3.176471\n",
              "'night Mother (1986)                     3.000000\n",
              "(500) Days of Summer (2009)              3.666667\n",
              "*batteries not included (1987)           3.285714"
            ]
          },
          "metadata": {
            "tags": []
          },
          "execution_count": 9
        }
      ]
    },
    {
      "cell_type": "code",
      "metadata": {
        "id": "Hjx7_yVt12B-",
        "colab_type": "code",
        "colab": {},
        "outputId": "4b841232-d210-4634-9343-e5dfdbfb94c0"
      },
      "source": [
        "Average_ratings['Total Ratings'] = pd.DataFrame(data.groupby('title')['rating'].count())\n",
        "Average_ratings.head(10)"
      ],
      "execution_count": null,
      "outputs": [
        {
          "output_type": "execute_result",
          "data": {
            "text/html": [
              "<div>\n",
              "<style scoped>\n",
              "    .dataframe tbody tr th:only-of-type {\n",
              "        vertical-align: middle;\n",
              "    }\n",
              "\n",
              "    .dataframe tbody tr th {\n",
              "        vertical-align: top;\n",
              "    }\n",
              "\n",
              "    .dataframe thead th {\n",
              "        text-align: right;\n",
              "    }\n",
              "</style>\n",
              "<table border=\"1\" class=\"dataframe\">\n",
              "  <thead>\n",
              "    <tr style=\"text-align: right;\">\n",
              "      <th></th>\n",
              "      <th>rating</th>\n",
              "      <th>Total Ratings</th>\n",
              "    </tr>\n",
              "    <tr>\n",
              "      <th>title</th>\n",
              "      <th></th>\n",
              "      <th></th>\n",
              "    </tr>\n",
              "  </thead>\n",
              "  <tbody>\n",
              "    <tr>\n",
              "      <th>'71 (2014)</th>\n",
              "      <td>4.000000</td>\n",
              "      <td>1</td>\n",
              "    </tr>\n",
              "    <tr>\n",
              "      <th>'Hellboy': The Seeds of Creation (2004)</th>\n",
              "      <td>4.000000</td>\n",
              "      <td>1</td>\n",
              "    </tr>\n",
              "    <tr>\n",
              "      <th>'Round Midnight (1986)</th>\n",
              "      <td>3.500000</td>\n",
              "      <td>2</td>\n",
              "    </tr>\n",
              "    <tr>\n",
              "      <th>'Salem's Lot (2004)</th>\n",
              "      <td>5.000000</td>\n",
              "      <td>1</td>\n",
              "    </tr>\n",
              "    <tr>\n",
              "      <th>'Til There Was You (1997)</th>\n",
              "      <td>4.000000</td>\n",
              "      <td>2</td>\n",
              "    </tr>\n",
              "    <tr>\n",
              "      <th>'Tis the Season for Love (2015)</th>\n",
              "      <td>1.500000</td>\n",
              "      <td>1</td>\n",
              "    </tr>\n",
              "    <tr>\n",
              "      <th>'burbs, The (1989)</th>\n",
              "      <td>3.176471</td>\n",
              "      <td>17</td>\n",
              "    </tr>\n",
              "    <tr>\n",
              "      <th>'night Mother (1986)</th>\n",
              "      <td>3.000000</td>\n",
              "      <td>1</td>\n",
              "    </tr>\n",
              "    <tr>\n",
              "      <th>(500) Days of Summer (2009)</th>\n",
              "      <td>3.666667</td>\n",
              "      <td>42</td>\n",
              "    </tr>\n",
              "    <tr>\n",
              "      <th>*batteries not included (1987)</th>\n",
              "      <td>3.285714</td>\n",
              "      <td>7</td>\n",
              "    </tr>\n",
              "  </tbody>\n",
              "</table>\n",
              "</div>"
            ],
            "text/plain": [
              "                                           rating  Total Ratings\n",
              "title                                                           \n",
              "'71 (2014)                               4.000000              1\n",
              "'Hellboy': The Seeds of Creation (2004)  4.000000              1\n",
              "'Round Midnight (1986)                   3.500000              2\n",
              "'Salem's Lot (2004)                      5.000000              1\n",
              "'Til There Was You (1997)                4.000000              2\n",
              "'Tis the Season for Love (2015)          1.500000              1\n",
              "'burbs, The (1989)                       3.176471             17\n",
              "'night Mother (1986)                     3.000000              1\n",
              "(500) Days of Summer (2009)              3.666667             42\n",
              "*batteries not included (1987)           3.285714              7"
            ]
          },
          "metadata": {
            "tags": []
          },
          "execution_count": 10
        }
      ]
    },
    {
      "cell_type": "code",
      "metadata": {
        "id": "AkjONXII12CC",
        "colab_type": "code",
        "colab": {}
      },
      "source": [
        "movie_user = data.pivot_table(index='userId',columns='title',values='rating')"
      ],
      "execution_count": null,
      "outputs": []
    },
    {
      "cell_type": "code",
      "metadata": {
        "id": "KKAmBdk012CH",
        "colab_type": "code",
        "colab": {},
        "outputId": "69eb76e3-c893-4088-8de6-d5b3176c7350"
      },
      "source": [
        "correlations = movie_user.corrwith(movie_user['Toy Story (1995)'])\n",
        "correlations.head()"
      ],
      "execution_count": null,
      "outputs": [
        {
          "output_type": "stream",
          "text": [
            "/home/kapuska/anaconda3/lib/python3.7/site-packages/numpy/lib/function_base.py:2526: RuntimeWarning: Degrees of freedom <= 0 for slice\n",
            "  c = cov(x, y, rowvar)\n",
            "/home/kapuska/anaconda3/lib/python3.7/site-packages/numpy/lib/function_base.py:2455: RuntimeWarning: divide by zero encountered in true_divide\n",
            "  c *= np.true_divide(1, fact)\n"
          ],
          "name": "stderr"
        },
        {
          "output_type": "execute_result",
          "data": {
            "text/plain": [
              "title\n",
              "'71 (2014)                                NaN\n",
              "'Hellboy': The Seeds of Creation (2004)   NaN\n",
              "'Round Midnight (1986)                    NaN\n",
              "'Salem's Lot (2004)                       NaN\n",
              "'Til There Was You (1997)                 NaN\n",
              "dtype: float64"
            ]
          },
          "metadata": {
            "tags": []
          },
          "execution_count": 12
        }
      ]
    },
    {
      "cell_type": "code",
      "metadata": {
        "id": "6WR1-6dw12CL",
        "colab_type": "code",
        "colab": {},
        "outputId": "5849d5c1-43ec-4fa3-d015-f5e7d694c526"
      },
      "source": [
        "recommendation = pd.DataFrame(correlations,columns=['Correlation'])\n",
        "recommendation.dropna(inplace=True)\n",
        "recommendation = recommendation.join(Average_ratings['Total Ratings'])\n",
        "recommendation.head()"
      ],
      "execution_count": null,
      "outputs": [
        {
          "output_type": "execute_result",
          "data": {
            "text/html": [
              "<div>\n",
              "<style scoped>\n",
              "    .dataframe tbody tr th:only-of-type {\n",
              "        vertical-align: middle;\n",
              "    }\n",
              "\n",
              "    .dataframe tbody tr th {\n",
              "        vertical-align: top;\n",
              "    }\n",
              "\n",
              "    .dataframe thead th {\n",
              "        text-align: right;\n",
              "    }\n",
              "</style>\n",
              "<table border=\"1\" class=\"dataframe\">\n",
              "  <thead>\n",
              "    <tr style=\"text-align: right;\">\n",
              "      <th></th>\n",
              "      <th>Correlation</th>\n",
              "      <th>Total Ratings</th>\n",
              "    </tr>\n",
              "    <tr>\n",
              "      <th>title</th>\n",
              "      <th></th>\n",
              "      <th></th>\n",
              "    </tr>\n",
              "  </thead>\n",
              "  <tbody>\n",
              "    <tr>\n",
              "      <th>'burbs, The (1989)</th>\n",
              "      <td>0.240563</td>\n",
              "      <td>17</td>\n",
              "    </tr>\n",
              "    <tr>\n",
              "      <th>(500) Days of Summer (2009)</th>\n",
              "      <td>0.353833</td>\n",
              "      <td>42</td>\n",
              "    </tr>\n",
              "    <tr>\n",
              "      <th>*batteries not included (1987)</th>\n",
              "      <td>-0.427425</td>\n",
              "      <td>7</td>\n",
              "    </tr>\n",
              "    <tr>\n",
              "      <th>10 Cent Pistol (2015)</th>\n",
              "      <td>1.000000</td>\n",
              "      <td>2</td>\n",
              "    </tr>\n",
              "    <tr>\n",
              "      <th>10 Cloverfield Lane (2016)</th>\n",
              "      <td>-0.285732</td>\n",
              "      <td>14</td>\n",
              "    </tr>\n",
              "  </tbody>\n",
              "</table>\n",
              "</div>"
            ],
            "text/plain": [
              "                                Correlation  Total Ratings\n",
              "title                                                     \n",
              "'burbs, The (1989)                 0.240563             17\n",
              "(500) Days of Summer (2009)        0.353833             42\n",
              "*batteries not included (1987)    -0.427425              7\n",
              "10 Cent Pistol (2015)              1.000000              2\n",
              "10 Cloverfield Lane (2016)        -0.285732             14"
            ]
          },
          "metadata": {
            "tags": []
          },
          "execution_count": 13
        }
      ]
    },
    {
      "cell_type": "code",
      "metadata": {
        "id": "o2e2Uhbp12CO",
        "colab_type": "code",
        "colab": {}
      },
      "source": [
        "recc = recommendation[recommendation['Total Ratings']>100].sort_values('Correlation',ascending=False).reset_index()"
      ],
      "execution_count": null,
      "outputs": []
    },
    {
      "cell_type": "code",
      "metadata": {
        "id": "0VlpmmR112CS",
        "colab_type": "code",
        "colab": {},
        "outputId": "f0ebae11-c613-44c0-bec7-dfcb6de39591"
      },
      "source": [
        "recc = recc.merge(movie_titles_genre,on='title', how='left')\n",
        "recc.head(10)"
      ],
      "execution_count": null,
      "outputs": [
        {
          "output_type": "execute_result",
          "data": {
            "text/html": [
              "<div>\n",
              "<style scoped>\n",
              "    .dataframe tbody tr th:only-of-type {\n",
              "        vertical-align: middle;\n",
              "    }\n",
              "\n",
              "    .dataframe tbody tr th {\n",
              "        vertical-align: top;\n",
              "    }\n",
              "\n",
              "    .dataframe thead th {\n",
              "        text-align: right;\n",
              "    }\n",
              "</style>\n",
              "<table border=\"1\" class=\"dataframe\">\n",
              "  <thead>\n",
              "    <tr style=\"text-align: right;\">\n",
              "      <th></th>\n",
              "      <th>title</th>\n",
              "      <th>Correlation</th>\n",
              "      <th>Total Ratings</th>\n",
              "      <th>movieId</th>\n",
              "      <th>genres</th>\n",
              "    </tr>\n",
              "  </thead>\n",
              "  <tbody>\n",
              "    <tr>\n",
              "      <th>0</th>\n",
              "      <td>Toy Story (1995)</td>\n",
              "      <td>1.000000</td>\n",
              "      <td>215</td>\n",
              "      <td>1</td>\n",
              "      <td>Adventure|Animation|Children|Comedy|Fantasy</td>\n",
              "    </tr>\n",
              "    <tr>\n",
              "      <th>1</th>\n",
              "      <td>Incredibles, The (2004)</td>\n",
              "      <td>0.643301</td>\n",
              "      <td>125</td>\n",
              "      <td>8961</td>\n",
              "      <td>Action|Adventure|Animation|Children|Comedy</td>\n",
              "    </tr>\n",
              "    <tr>\n",
              "      <th>2</th>\n",
              "      <td>Finding Nemo (2003)</td>\n",
              "      <td>0.618701</td>\n",
              "      <td>141</td>\n",
              "      <td>6377</td>\n",
              "      <td>Adventure|Animation|Children|Comedy</td>\n",
              "    </tr>\n",
              "    <tr>\n",
              "      <th>3</th>\n",
              "      <td>Aladdin (1992)</td>\n",
              "      <td>0.611892</td>\n",
              "      <td>183</td>\n",
              "      <td>588</td>\n",
              "      <td>Adventure|Animation|Children|Comedy|Musical</td>\n",
              "    </tr>\n",
              "    <tr>\n",
              "      <th>4</th>\n",
              "      <td>Monsters, Inc. (2001)</td>\n",
              "      <td>0.490231</td>\n",
              "      <td>132</td>\n",
              "      <td>4886</td>\n",
              "      <td>Adventure|Animation|Children|Comedy|Fantasy</td>\n",
              "    </tr>\n",
              "    <tr>\n",
              "      <th>5</th>\n",
              "      <td>Mrs. Doubtfire (1993)</td>\n",
              "      <td>0.446261</td>\n",
              "      <td>144</td>\n",
              "      <td>500</td>\n",
              "      <td>Comedy|Drama</td>\n",
              "    </tr>\n",
              "    <tr>\n",
              "      <th>6</th>\n",
              "      <td>Amelie (Fabuleux destin d'Amélie Poulain, Le) ...</td>\n",
              "      <td>0.438237</td>\n",
              "      <td>120</td>\n",
              "      <td>4973</td>\n",
              "      <td>Comedy|Romance</td>\n",
              "    </tr>\n",
              "    <tr>\n",
              "      <th>7</th>\n",
              "      <td>American Pie (1999)</td>\n",
              "      <td>0.420117</td>\n",
              "      <td>103</td>\n",
              "      <td>2706</td>\n",
              "      <td>Comedy|Romance</td>\n",
              "    </tr>\n",
              "    <tr>\n",
              "      <th>8</th>\n",
              "      <td>Die Hard: With a Vengeance (1995)</td>\n",
              "      <td>0.410939</td>\n",
              "      <td>144</td>\n",
              "      <td>165</td>\n",
              "      <td>Action|Crime|Thriller</td>\n",
              "    </tr>\n",
              "    <tr>\n",
              "      <th>9</th>\n",
              "      <td>E.T. the Extra-Terrestrial (1982)</td>\n",
              "      <td>0.409216</td>\n",
              "      <td>122</td>\n",
              "      <td>1097</td>\n",
              "      <td>Children|Drama|Sci-Fi</td>\n",
              "    </tr>\n",
              "  </tbody>\n",
              "</table>\n",
              "</div>"
            ],
            "text/plain": [
              "                                               title  Correlation  \\\n",
              "0                                   Toy Story (1995)     1.000000   \n",
              "1                            Incredibles, The (2004)     0.643301   \n",
              "2                                Finding Nemo (2003)     0.618701   \n",
              "3                                     Aladdin (1992)     0.611892   \n",
              "4                              Monsters, Inc. (2001)     0.490231   \n",
              "5                              Mrs. Doubtfire (1993)     0.446261   \n",
              "6  Amelie (Fabuleux destin d'Amélie Poulain, Le) ...     0.438237   \n",
              "7                                American Pie (1999)     0.420117   \n",
              "8                  Die Hard: With a Vengeance (1995)     0.410939   \n",
              "9                  E.T. the Extra-Terrestrial (1982)     0.409216   \n",
              "\n",
              "   Total Ratings  movieId                                       genres  \n",
              "0            215        1  Adventure|Animation|Children|Comedy|Fantasy  \n",
              "1            125     8961   Action|Adventure|Animation|Children|Comedy  \n",
              "2            141     6377          Adventure|Animation|Children|Comedy  \n",
              "3            183      588  Adventure|Animation|Children|Comedy|Musical  \n",
              "4            132     4886  Adventure|Animation|Children|Comedy|Fantasy  \n",
              "5            144      500                                 Comedy|Drama  \n",
              "6            120     4973                               Comedy|Romance  \n",
              "7            103     2706                               Comedy|Romance  \n",
              "8            144      165                        Action|Crime|Thriller  \n",
              "9            122     1097                        Children|Drama|Sci-Fi  "
            ]
          },
          "metadata": {
            "tags": []
          },
          "execution_count": 15
        }
      ]
    },
    {
      "cell_type": "code",
      "metadata": {
        "id": "q1hQjcHP12CV",
        "colab_type": "code",
        "colab": {}
      },
      "source": [
        "\n",
        "data = data[['userId', 'movieId', 'rating', 'timestamp']]\n",
        "data = data.iloc[:, :-1]"
      ],
      "execution_count": null,
      "outputs": []
    },
    {
      "cell_type": "code",
      "metadata": {
        "id": "SSOOHccr12CZ",
        "colab_type": "code",
        "colab": {}
      },
      "source": [
        "from surprise import Reader, Dataset\n",
        "reader = Reader()\n",
        "data = Dataset.load_from_df(data[['userId', 'movieId', 'rating']], reader)"
      ],
      "execution_count": null,
      "outputs": []
    },
    {
      "cell_type": "code",
      "metadata": {
        "id": "zWZrXURL12Cd",
        "colab_type": "code",
        "colab": {}
      },
      "source": [
        "\n",
        "from surprise.model_selection import train_test_split\n",
        "\n",
        "trainset, testset = train_test_split(data, test_size=0.25)"
      ],
      "execution_count": null,
      "outputs": []
    },
    {
      "cell_type": "code",
      "metadata": {
        "id": "JL3ldv7212Ci",
        "colab_type": "code",
        "colab": {},
        "outputId": "bc4c9f7a-919f-46b2-86a4-410757c7d1b6"
      },
      "source": [
        "\n",
        "from surprise import SVD, accuracy\n",
        "algo = SVD()\n",
        "algo.fit(trainset)"
      ],
      "execution_count": null,
      "outputs": [
        {
          "output_type": "execute_result",
          "data": {
            "text/plain": [
              "<surprise.prediction_algorithms.matrix_factorization.SVD at 0x7ff04d59f710>"
            ]
          },
          "metadata": {
            "tags": []
          },
          "execution_count": 19
        }
      ]
    },
    {
      "cell_type": "code",
      "metadata": {
        "id": "Q_DAo8i612Cl",
        "colab_type": "code",
        "colab": {}
      },
      "source": [
        "\n",
        "predictions = algo.test(testset)"
      ],
      "execution_count": null,
      "outputs": []
    },
    {
      "cell_type": "code",
      "metadata": {
        "id": "mQRjqbgX12Co",
        "colab_type": "code",
        "colab": {},
        "outputId": "62750d7b-8169-4ad7-99c3-5b86934cf0fa"
      },
      "source": [
        "print('for svd')\n",
        "print('the error & accuracy')\n",
        "from surprise import accuracy\n",
        "accuracy.rmse(predictions)"
      ],
      "execution_count": null,
      "outputs": [
        {
          "output_type": "stream",
          "text": [
            "for svd\n",
            "the error & accuracy\n",
            "RMSE: 0.8747\n"
          ],
          "name": "stdout"
        },
        {
          "output_type": "execute_result",
          "data": {
            "text/plain": [
              "0.8747074642941514"
            ]
          },
          "metadata": {
            "tags": []
          },
          "execution_count": 47
        }
      ]
    },
    {
      "cell_type": "code",
      "metadata": {
        "id": "OEtfUH8B12Cr",
        "colab_type": "code",
        "colab": {}
      },
      "source": [
        "# clustering\n",
        "\n",
        "from surprise.prediction_algorithms.knns import KNNBasic"
      ],
      "execution_count": null,
      "outputs": []
    },
    {
      "cell_type": "code",
      "metadata": {
        "id": "xh-Xm7mg12Cu",
        "colab_type": "code",
        "colab": {}
      },
      "source": [
        "c = KNNBasic()"
      ],
      "execution_count": null,
      "outputs": []
    },
    {
      "cell_type": "code",
      "metadata": {
        "id": "hDxnkHgP12Cy",
        "colab_type": "code",
        "colab": {},
        "outputId": "371860c0-8b5e-4da4-ca18-eb0736b11091"
      },
      "source": [
        "c.fit(trainset)"
      ],
      "execution_count": null,
      "outputs": [
        {
          "output_type": "stream",
          "text": [
            "Computing the msd similarity matrix...\n",
            "Done computing similarity matrix.\n"
          ],
          "name": "stdout"
        },
        {
          "output_type": "execute_result",
          "data": {
            "text/plain": [
              "<surprise.prediction_algorithms.knns.KNNBasic at 0x7ff04bcf8610>"
            ]
          },
          "metadata": {
            "tags": []
          },
          "execution_count": 24
        }
      ]
    },
    {
      "cell_type": "code",
      "metadata": {
        "id": "vXwrVWhT12C3",
        "colab_type": "code",
        "colab": {}
      },
      "source": [
        "pred = c.test(testset)"
      ],
      "execution_count": null,
      "outputs": []
    },
    {
      "cell_type": "code",
      "metadata": {
        "id": "mqRjvskz12C8",
        "colab_type": "code",
        "colab": {},
        "outputId": "9737c93e-239e-44a1-8c1f-23af13c85d5c"
      },
      "source": [
        "print('As for knn the accuracy is far better so we choose this one')\n",
        "from surprise import accuracy\n",
        "accuracy.rmse(pred)"
      ],
      "execution_count": null,
      "outputs": [
        {
          "output_type": "stream",
          "text": [
            "as for knn the accuracy is far better so we choose this one\n",
            "RMSE: 0.9482\n"
          ],
          "name": "stdout"
        },
        {
          "output_type": "execute_result",
          "data": {
            "text/plain": [
              "0.9482096221369373"
            ]
          },
          "metadata": {
            "tags": []
          },
          "execution_count": 46
        }
      ]
    },
    {
      "cell_type": "code",
      "metadata": {
        "id": "KIjYzpJY12C_",
        "colab_type": "code",
        "colab": {},
        "outputId": "f27ac657-6d25-4f95-ccfa-1664eba36a26"
      },
      "source": [
        "len(pred)"
      ],
      "execution_count": null,
      "outputs": [
        {
          "output_type": "execute_result",
          "data": {
            "text/plain": [
              "25209"
            ]
          },
          "metadata": {
            "tags": []
          },
          "execution_count": 27
        }
      ]
    },
    {
      "cell_type": "code",
      "metadata": {
        "id": "wNSAHK2V12DD",
        "colab_type": "code",
        "colab": {},
        "outputId": "04eb6b7b-22f0-4bb4-c60a-6d9bdb27a5bd"
      },
      "source": [
        "type(trainset)"
      ],
      "execution_count": null,
      "outputs": [
        {
          "output_type": "execute_result",
          "data": {
            "text/plain": [
              "surprise.trainset.Trainset"
            ]
          },
          "metadata": {
            "tags": []
          },
          "execution_count": 28
        }
      ]
    },
    {
      "cell_type": "code",
      "metadata": {
        "id": "cWDCPu4x12DI",
        "colab_type": "code",
        "colab": {}
      },
      "source": [
        "result = pd.DataFrame(pred)\n"
      ],
      "execution_count": null,
      "outputs": []
    },
    {
      "cell_type": "code",
      "metadata": {
        "id": "z-m9Pmqg12DM",
        "colab_type": "code",
        "colab": {}
      },
      "source": [
        ""
      ],
      "execution_count": null,
      "outputs": []
    },
    {
      "cell_type": "code",
      "metadata": {
        "id": "r9FFKHp212DQ",
        "colab_type": "code",
        "colab": {}
      },
      "source": [
        "result.drop(columns = {'details'}, inplace = True)"
      ],
      "execution_count": null,
      "outputs": []
    },
    {
      "cell_type": "code",
      "metadata": {
        "id": "KIagFMm812DU",
        "colab_type": "code",
        "colab": {},
        "outputId": "a29c945a-7c1c-4052-ec35-f18e2ddb9441"
      },
      "source": [
        "result.head()"
      ],
      "execution_count": null,
      "outputs": [
        {
          "output_type": "execute_result",
          "data": {
            "text/html": [
              "<div>\n",
              "<style scoped>\n",
              "    .dataframe tbody tr th:only-of-type {\n",
              "        vertical-align: middle;\n",
              "    }\n",
              "\n",
              "    .dataframe tbody tr th {\n",
              "        vertical-align: top;\n",
              "    }\n",
              "\n",
              "    .dataframe thead th {\n",
              "        text-align: right;\n",
              "    }\n",
              "</style>\n",
              "<table border=\"1\" class=\"dataframe\">\n",
              "  <thead>\n",
              "    <tr style=\"text-align: right;\">\n",
              "      <th></th>\n",
              "      <th>uid</th>\n",
              "      <th>iid</th>\n",
              "      <th>r_ui</th>\n",
              "      <th>est</th>\n",
              "    </tr>\n",
              "  </thead>\n",
              "  <tbody>\n",
              "    <tr>\n",
              "      <th>0</th>\n",
              "      <td>603</td>\n",
              "      <td>1394</td>\n",
              "      <td>5.0</td>\n",
              "      <td>3.919975</td>\n",
              "    </tr>\n",
              "    <tr>\n",
              "      <th>1</th>\n",
              "      <td>434</td>\n",
              "      <td>1517</td>\n",
              "      <td>4.0</td>\n",
              "      <td>3.649209</td>\n",
              "    </tr>\n",
              "    <tr>\n",
              "      <th>2</th>\n",
              "      <td>182</td>\n",
              "      <td>1687</td>\n",
              "      <td>4.0</td>\n",
              "      <td>3.144087</td>\n",
              "    </tr>\n",
              "    <tr>\n",
              "      <th>3</th>\n",
              "      <td>22</td>\n",
              "      <td>49272</td>\n",
              "      <td>5.0</td>\n",
              "      <td>3.872095</td>\n",
              "    </tr>\n",
              "    <tr>\n",
              "      <th>4</th>\n",
              "      <td>448</td>\n",
              "      <td>5334</td>\n",
              "      <td>1.0</td>\n",
              "      <td>2.000000</td>\n",
              "    </tr>\n",
              "  </tbody>\n",
              "</table>\n",
              "</div>"
            ],
            "text/plain": [
              "   uid    iid  r_ui       est\n",
              "0  603   1394   5.0  3.919975\n",
              "1  434   1517   4.0  3.649209\n",
              "2  182   1687   4.0  3.144087\n",
              "3   22  49272   5.0  3.872095\n",
              "4  448   5334   1.0  2.000000"
            ]
          },
          "metadata": {
            "tags": []
          },
          "execution_count": 31
        }
      ]
    },
    {
      "cell_type": "code",
      "metadata": {
        "id": "eormL4OP12DZ",
        "colab_type": "code",
        "colab": {}
      },
      "source": [
        "IDs: 42, 314 and 444;"
      ],
      "execution_count": null,
      "outputs": []
    },
    {
      "cell_type": "code",
      "metadata": {
        "id": "s8ZB29z712Dc",
        "colab_type": "code",
        "colab": {},
        "outputId": "9a1ca021-a5bb-42ce-cfca-b8c055c58c91"
      },
      "source": [
        "print('#'*60)\n",
        "print(' Recommendations for user with id 42' + '|| iid is the id of movie')\n",
        "\n",
        "result.loc[result['uid'] == 42]"
      ],
      "execution_count": null,
      "outputs": [
        {
          "output_type": "stream",
          "text": [
            "############################################################\n",
            " recommendations for user with id 42 iid is the id of movie\n"
          ],
          "name": "stdout"
        },
        {
          "output_type": "execute_result",
          "data": {
            "text/html": [
              "<div>\n",
              "<style scoped>\n",
              "    .dataframe tbody tr th:only-of-type {\n",
              "        vertical-align: middle;\n",
              "    }\n",
              "\n",
              "    .dataframe tbody tr th {\n",
              "        vertical-align: top;\n",
              "    }\n",
              "\n",
              "    .dataframe thead th {\n",
              "        text-align: right;\n",
              "    }\n",
              "</style>\n",
              "<table border=\"1\" class=\"dataframe\">\n",
              "  <thead>\n",
              "    <tr style=\"text-align: right;\">\n",
              "      <th></th>\n",
              "      <th>uid</th>\n",
              "      <th>iid</th>\n",
              "      <th>r_ui</th>\n",
              "      <th>est</th>\n",
              "    </tr>\n",
              "  </thead>\n",
              "  <tbody>\n",
              "    <tr>\n",
              "      <th>100</th>\n",
              "      <td>42</td>\n",
              "      <td>223</td>\n",
              "      <td>5.0</td>\n",
              "      <td>4.151005</td>\n",
              "    </tr>\n",
              "    <tr>\n",
              "      <th>120</th>\n",
              "      <td>42</td>\n",
              "      <td>236</td>\n",
              "      <td>3.0</td>\n",
              "      <td>3.520862</td>\n",
              "    </tr>\n",
              "    <tr>\n",
              "      <th>342</th>\n",
              "      <td>42</td>\n",
              "      <td>144</td>\n",
              "      <td>4.0</td>\n",
              "      <td>3.267242</td>\n",
              "    </tr>\n",
              "    <tr>\n",
              "      <th>377</th>\n",
              "      <td>42</td>\n",
              "      <td>2028</td>\n",
              "      <td>5.0</td>\n",
              "      <td>4.208931</td>\n",
              "    </tr>\n",
              "    <tr>\n",
              "      <th>500</th>\n",
              "      <td>42</td>\n",
              "      <td>1485</td>\n",
              "      <td>4.0</td>\n",
              "      <td>3.039480</td>\n",
              "    </tr>\n",
              "    <tr>\n",
              "      <th>...</th>\n",
              "      <td>...</td>\n",
              "      <td>...</td>\n",
              "      <td>...</td>\n",
              "      <td>...</td>\n",
              "    </tr>\n",
              "    <tr>\n",
              "      <th>24587</th>\n",
              "      <td>42</td>\n",
              "      <td>1687</td>\n",
              "      <td>3.0</td>\n",
              "      <td>3.215533</td>\n",
              "    </tr>\n",
              "    <tr>\n",
              "      <th>24680</th>\n",
              "      <td>42</td>\n",
              "      <td>3441</td>\n",
              "      <td>4.0</td>\n",
              "      <td>3.499239</td>\n",
              "    </tr>\n",
              "    <tr>\n",
              "      <th>24708</th>\n",
              "      <td>42</td>\n",
              "      <td>2605</td>\n",
              "      <td>4.0</td>\n",
              "      <td>3.071964</td>\n",
              "    </tr>\n",
              "    <tr>\n",
              "      <th>24718</th>\n",
              "      <td>42</td>\n",
              "      <td>2406</td>\n",
              "      <td>3.0</td>\n",
              "      <td>3.453426</td>\n",
              "    </tr>\n",
              "    <tr>\n",
              "      <th>24906</th>\n",
              "      <td>42</td>\n",
              "      <td>4322</td>\n",
              "      <td>4.0</td>\n",
              "      <td>3.654934</td>\n",
              "    </tr>\n",
              "  </tbody>\n",
              "</table>\n",
              "<p>111 rows × 4 columns</p>\n",
              "</div>"
            ],
            "text/plain": [
              "       uid   iid  r_ui       est\n",
              "100     42   223   5.0  4.151005\n",
              "120     42   236   3.0  3.520862\n",
              "342     42   144   4.0  3.267242\n",
              "377     42  2028   5.0  4.208931\n",
              "500     42  1485   4.0  3.039480\n",
              "...    ...   ...   ...       ...\n",
              "24587   42  1687   3.0  3.215533\n",
              "24680   42  3441   4.0  3.499239\n",
              "24708   42  2605   4.0  3.071964\n",
              "24718   42  2406   3.0  3.453426\n",
              "24906   42  4322   4.0  3.654934\n",
              "\n",
              "[111 rows x 4 columns]"
            ]
          },
          "metadata": {
            "tags": []
          },
          "execution_count": 41
        }
      ]
    },
    {
      "cell_type": "code",
      "metadata": {
        "id": "LQUR_bNe12Dg",
        "colab_type": "code",
        "colab": {},
        "outputId": "03a93deb-6055-47fb-c13b-2fdb40e3834f"
      },
      "source": [
        "print('#'*60)\n",
        "print(' Recommendations for user with id 314' + '|| iid is the id of movie')\n",
        "\n",
        "result.loc[result['uid'] == 314]"
      ],
      "execution_count": null,
      "outputs": [
        {
          "output_type": "stream",
          "text": [
            "############################################################\n",
            " Recommendations for user with id 314 iid is the id of movie\n"
          ],
          "name": "stdout"
        },
        {
          "output_type": "execute_result",
          "data": {
            "text/html": [
              "<div>\n",
              "<style scoped>\n",
              "    .dataframe tbody tr th:only-of-type {\n",
              "        vertical-align: middle;\n",
              "    }\n",
              "\n",
              "    .dataframe tbody tr th {\n",
              "        vertical-align: top;\n",
              "    }\n",
              "\n",
              "    .dataframe thead th {\n",
              "        text-align: right;\n",
              "    }\n",
              "</style>\n",
              "<table border=\"1\" class=\"dataframe\">\n",
              "  <thead>\n",
              "    <tr style=\"text-align: right;\">\n",
              "      <th></th>\n",
              "      <th>uid</th>\n",
              "      <th>iid</th>\n",
              "      <th>r_ui</th>\n",
              "      <th>est</th>\n",
              "    </tr>\n",
              "  </thead>\n",
              "  <tbody>\n",
              "    <tr>\n",
              "      <th>981</th>\n",
              "      <td>314</td>\n",
              "      <td>172</td>\n",
              "      <td>1.0</td>\n",
              "      <td>2.699237</td>\n",
              "    </tr>\n",
              "    <tr>\n",
              "      <th>2036</th>\n",
              "      <td>314</td>\n",
              "      <td>316</td>\n",
              "      <td>2.0</td>\n",
              "      <td>3.352732</td>\n",
              "    </tr>\n",
              "    <tr>\n",
              "      <th>2037</th>\n",
              "      <td>314</td>\n",
              "      <td>524</td>\n",
              "      <td>4.0</td>\n",
              "      <td>3.630203</td>\n",
              "    </tr>\n",
              "    <tr>\n",
              "      <th>2216</th>\n",
              "      <td>314</td>\n",
              "      <td>780</td>\n",
              "      <td>3.0</td>\n",
              "      <td>3.522339</td>\n",
              "    </tr>\n",
              "    <tr>\n",
              "      <th>2489</th>\n",
              "      <td>314</td>\n",
              "      <td>60</td>\n",
              "      <td>3.0</td>\n",
              "      <td>3.171913</td>\n",
              "    </tr>\n",
              "    <tr>\n",
              "      <th>2654</th>\n",
              "      <td>314</td>\n",
              "      <td>592</td>\n",
              "      <td>3.0</td>\n",
              "      <td>3.442056</td>\n",
              "    </tr>\n",
              "    <tr>\n",
              "      <th>3434</th>\n",
              "      <td>314</td>\n",
              "      <td>1367</td>\n",
              "      <td>3.0</td>\n",
              "      <td>2.981927</td>\n",
              "    </tr>\n",
              "    <tr>\n",
              "      <th>4819</th>\n",
              "      <td>314</td>\n",
              "      <td>434</td>\n",
              "      <td>1.0</td>\n",
              "      <td>2.618921</td>\n",
              "    </tr>\n",
              "    <tr>\n",
              "      <th>7559</th>\n",
              "      <td>314</td>\n",
              "      <td>474</td>\n",
              "      <td>3.0</td>\n",
              "      <td>3.624025</td>\n",
              "    </tr>\n",
              "    <tr>\n",
              "      <th>8002</th>\n",
              "      <td>314</td>\n",
              "      <td>314</td>\n",
              "      <td>4.0</td>\n",
              "      <td>3.568770</td>\n",
              "    </tr>\n",
              "    <tr>\n",
              "      <th>9245</th>\n",
              "      <td>314</td>\n",
              "      <td>272</td>\n",
              "      <td>3.0</td>\n",
              "      <td>3.727251</td>\n",
              "    </tr>\n",
              "    <tr>\n",
              "      <th>11207</th>\n",
              "      <td>314</td>\n",
              "      <td>125</td>\n",
              "      <td>1.0</td>\n",
              "      <td>4.398744</td>\n",
              "    </tr>\n",
              "    <tr>\n",
              "      <th>11707</th>\n",
              "      <td>314</td>\n",
              "      <td>23</td>\n",
              "      <td>3.0</td>\n",
              "      <td>3.138095</td>\n",
              "    </tr>\n",
              "    <tr>\n",
              "      <th>11913</th>\n",
              "      <td>314</td>\n",
              "      <td>457</td>\n",
              "      <td>3.0</td>\n",
              "      <td>3.949974</td>\n",
              "    </tr>\n",
              "    <tr>\n",
              "      <th>12848</th>\n",
              "      <td>314</td>\n",
              "      <td>349</td>\n",
              "      <td>3.0</td>\n",
              "      <td>3.326724</td>\n",
              "    </tr>\n",
              "    <tr>\n",
              "      <th>12933</th>\n",
              "      <td>314</td>\n",
              "      <td>62</td>\n",
              "      <td>4.0</td>\n",
              "      <td>3.690936</td>\n",
              "    </tr>\n",
              "    <tr>\n",
              "      <th>16321</th>\n",
              "      <td>314</td>\n",
              "      <td>497</td>\n",
              "      <td>5.0</td>\n",
              "      <td>3.701212</td>\n",
              "    </tr>\n",
              "    <tr>\n",
              "      <th>16358</th>\n",
              "      <td>314</td>\n",
              "      <td>924</td>\n",
              "      <td>5.0</td>\n",
              "      <td>3.948895</td>\n",
              "    </tr>\n",
              "    <tr>\n",
              "      <th>16732</th>\n",
              "      <td>314</td>\n",
              "      <td>647</td>\n",
              "      <td>5.0</td>\n",
              "      <td>3.405648</td>\n",
              "    </tr>\n",
              "    <tr>\n",
              "      <th>17853</th>\n",
              "      <td>314</td>\n",
              "      <td>327</td>\n",
              "      <td>1.0</td>\n",
              "      <td>2.881304</td>\n",
              "    </tr>\n",
              "    <tr>\n",
              "      <th>18613</th>\n",
              "      <td>314</td>\n",
              "      <td>618</td>\n",
              "      <td>3.0</td>\n",
              "      <td>3.501164</td>\n",
              "    </tr>\n",
              "    <tr>\n",
              "      <th>21559</th>\n",
              "      <td>314</td>\n",
              "      <td>173</td>\n",
              "      <td>3.0</td>\n",
              "      <td>2.466535</td>\n",
              "    </tr>\n",
              "    <tr>\n",
              "      <th>21699</th>\n",
              "      <td>314</td>\n",
              "      <td>594</td>\n",
              "      <td>3.0</td>\n",
              "      <td>3.401221</td>\n",
              "    </tr>\n",
              "    <tr>\n",
              "      <th>22033</th>\n",
              "      <td>314</td>\n",
              "      <td>1042</td>\n",
              "      <td>3.0</td>\n",
              "      <td>3.209210</td>\n",
              "    </tr>\n",
              "    <tr>\n",
              "      <th>22779</th>\n",
              "      <td>314</td>\n",
              "      <td>21</td>\n",
              "      <td>3.0</td>\n",
              "      <td>3.445303</td>\n",
              "    </tr>\n",
              "    <tr>\n",
              "      <th>24013</th>\n",
              "      <td>314</td>\n",
              "      <td>32</td>\n",
              "      <td>3.0</td>\n",
              "      <td>3.699807</td>\n",
              "    </tr>\n",
              "  </tbody>\n",
              "</table>\n",
              "</div>"
            ],
            "text/plain": [
              "       uid   iid  r_ui       est\n",
              "981    314   172   1.0  2.699237\n",
              "2036   314   316   2.0  3.352732\n",
              "2037   314   524   4.0  3.630203\n",
              "2216   314   780   3.0  3.522339\n",
              "2489   314    60   3.0  3.171913\n",
              "2654   314   592   3.0  3.442056\n",
              "3434   314  1367   3.0  2.981927\n",
              "4819   314   434   1.0  2.618921\n",
              "7559   314   474   3.0  3.624025\n",
              "8002   314   314   4.0  3.568770\n",
              "9245   314   272   3.0  3.727251\n",
              "11207  314   125   1.0  4.398744\n",
              "11707  314    23   3.0  3.138095\n",
              "11913  314   457   3.0  3.949974\n",
              "12848  314   349   3.0  3.326724\n",
              "12933  314    62   4.0  3.690936\n",
              "16321  314   497   5.0  3.701212\n",
              "16358  314   924   5.0  3.948895\n",
              "16732  314   647   5.0  3.405648\n",
              "17853  314   327   1.0  2.881304\n",
              "18613  314   618   3.0  3.501164\n",
              "21559  314   173   3.0  2.466535\n",
              "21699  314   594   3.0  3.401221\n",
              "22033  314  1042   3.0  3.209210\n",
              "22779  314    21   3.0  3.445303\n",
              "24013  314    32   3.0  3.699807"
            ]
          },
          "metadata": {
            "tags": []
          },
          "execution_count": 43
        }
      ]
    },
    {
      "cell_type": "code",
      "metadata": {
        "id": "6bjpL-dv12Dm",
        "colab_type": "code",
        "colab": {},
        "outputId": "49bd35ec-93d5-4538-fcff-e6f65019a548"
      },
      "source": [
        "# est is the estimated rating in the dataframe\n",
        "# r_ui is the actual rating\n",
        "# iid is the movie id\n",
        "# uid is the user id\n",
        "\n",
        "\n",
        "print('#'*60)\n",
        "print(' Recommendations for user with id 444' + '|| iid is the id of movie')\n",
        "\n",
        "result.loc[result['uid'] == 444]"
      ],
      "execution_count": null,
      "outputs": [
        {
          "output_type": "stream",
          "text": [
            "############################################################\n",
            " Recommendations for user with id 444|| iid is the id of movie\n"
          ],
          "name": "stdout"
        },
        {
          "output_type": "execute_result",
          "data": {
            "text/html": [
              "<div>\n",
              "<style scoped>\n",
              "    .dataframe tbody tr th:only-of-type {\n",
              "        vertical-align: middle;\n",
              "    }\n",
              "\n",
              "    .dataframe tbody tr th {\n",
              "        vertical-align: top;\n",
              "    }\n",
              "\n",
              "    .dataframe thead th {\n",
              "        text-align: right;\n",
              "    }\n",
              "</style>\n",
              "<table border=\"1\" class=\"dataframe\">\n",
              "  <thead>\n",
              "    <tr style=\"text-align: right;\">\n",
              "      <th></th>\n",
              "      <th>uid</th>\n",
              "      <th>iid</th>\n",
              "      <th>r_ui</th>\n",
              "      <th>est</th>\n",
              "    </tr>\n",
              "  </thead>\n",
              "  <tbody>\n",
              "    <tr>\n",
              "      <th>2358</th>\n",
              "      <td>444</td>\n",
              "      <td>344</td>\n",
              "      <td>3.0</td>\n",
              "      <td>3.248394</td>\n",
              "    </tr>\n",
              "    <tr>\n",
              "      <th>4496</th>\n",
              "      <td>444</td>\n",
              "      <td>527</td>\n",
              "      <td>5.0</td>\n",
              "      <td>4.320655</td>\n",
              "    </tr>\n",
              "    <tr>\n",
              "      <th>6394</th>\n",
              "      <td>444</td>\n",
              "      <td>185</td>\n",
              "      <td>3.0</td>\n",
              "      <td>3.073005</td>\n",
              "    </tr>\n",
              "    <tr>\n",
              "      <th>6900</th>\n",
              "      <td>444</td>\n",
              "      <td>273</td>\n",
              "      <td>4.0</td>\n",
              "      <td>3.035652</td>\n",
              "    </tr>\n",
              "    <tr>\n",
              "      <th>8472</th>\n",
              "      <td>444</td>\n",
              "      <td>356</td>\n",
              "      <td>5.0</td>\n",
              "      <td>4.244824</td>\n",
              "    </tr>\n",
              "    <tr>\n",
              "      <th>8533</th>\n",
              "      <td>444</td>\n",
              "      <td>173</td>\n",
              "      <td>2.0</td>\n",
              "      <td>2.694218</td>\n",
              "    </tr>\n",
              "    <tr>\n",
              "      <th>8994</th>\n",
              "      <td>444</td>\n",
              "      <td>595</td>\n",
              "      <td>4.0</td>\n",
              "      <td>3.680961</td>\n",
              "    </tr>\n",
              "    <tr>\n",
              "      <th>11795</th>\n",
              "      <td>444</td>\n",
              "      <td>350</td>\n",
              "      <td>3.0</td>\n",
              "      <td>3.301335</td>\n",
              "    </tr>\n",
              "    <tr>\n",
              "      <th>12817</th>\n",
              "      <td>444</td>\n",
              "      <td>454</td>\n",
              "      <td>3.0</td>\n",
              "      <td>3.361017</td>\n",
              "    </tr>\n",
              "    <tr>\n",
              "      <th>16677</th>\n",
              "      <td>444</td>\n",
              "      <td>592</td>\n",
              "      <td>3.0</td>\n",
              "      <td>3.538141</td>\n",
              "    </tr>\n",
              "    <tr>\n",
              "      <th>25072</th>\n",
              "      <td>444</td>\n",
              "      <td>300</td>\n",
              "      <td>3.0</td>\n",
              "      <td>3.691837</td>\n",
              "    </tr>\n",
              "  </tbody>\n",
              "</table>\n",
              "</div>"
            ],
            "text/plain": [
              "       uid  iid  r_ui       est\n",
              "2358   444  344   3.0  3.248394\n",
              "4496   444  527   5.0  4.320655\n",
              "6394   444  185   3.0  3.073005\n",
              "6900   444  273   4.0  3.035652\n",
              "8472   444  356   5.0  4.244824\n",
              "8533   444  173   2.0  2.694218\n",
              "8994   444  595   4.0  3.680961\n",
              "11795  444  350   3.0  3.301335\n",
              "12817  444  454   3.0  3.361017\n",
              "16677  444  592   3.0  3.538141\n",
              "25072  444  300   3.0  3.691837"
            ]
          },
          "metadata": {
            "tags": []
          },
          "execution_count": 45
        }
      ]
    },
    {
      "cell_type": "code",
      "metadata": {
        "id": "LYwtAY4512Dr",
        "colab_type": "code",
        "colab": {},
        "outputId": "67979da1-338b-4123-a9f5-13f417a6da29"
      },
      "source": [
        "print('the recommendations seem perfct as the error rate is very less')\n"
      ],
      "execution_count": null,
      "outputs": [
        {
          "output_type": "stream",
          "text": [
            "the recommendations seem perfct as the error rate is very less\n"
          ],
          "name": "stdout"
        }
      ]
    },
    {
      "cell_type": "code",
      "metadata": {
        "id": "dbwtbBY_12Dw",
        "colab_type": "code",
        "colab": {}
      },
      "source": [
        ""
      ],
      "execution_count": null,
      "outputs": []
    }
  ]
}